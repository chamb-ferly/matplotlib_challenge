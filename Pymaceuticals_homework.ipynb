{
 "cells": [
  {
   "cell_type": "code",
   "execution_count": 1,
   "metadata": {},
   "outputs": [],
   "source": [
    "\n"
   ]
  },
  {
   "cell_type": "code",
   "execution_count": null,
   "metadata": {},
   "outputs": [],
   "source": [
    "# Generate a summary statistics table consisting of the mean, median, variance, standard deviation, \n",
    "# and SEM of the tumor volume for each drug regimen."
   ]
  },
  {
   "cell_type": "code",
   "execution_count": null,
   "metadata": {},
   "outputs": [],
   "source": [
    "# Generate a bar plot using both Pandas's `DataFrame.plot()` and Matplotlib's `pyplot` that shows the \n",
    "# number of data points for each treatment regimen.\n",
    "# NOTE:** These plots should look identical.\n"
   ]
  },
  {
   "cell_type": "code",
   "execution_count": null,
   "metadata": {},
   "outputs": [],
   "source": [
    "# Generate a pie plot using both Pandas's `DataFrame.plot()` and Matplotlib's `pyplot` that shows \n",
    "# the distribution of female or male mice in the study.\n",
    "# NOTE:** These plots should look identical."
   ]
  },
  {
   "cell_type": "code",
   "execution_count": null,
   "metadata": {},
   "outputs": [],
   "source": [
    "# Calculate the final tumor volume of each mouse across four of the most promising treatment regimens: \n",
    "# Capomulin, Ramicane, Infubinol, and Ceftamin. Calculate the quartiles and IQR and \n",
    "# quantitatively determine if there are any potential outliers across all four treatment regimens.\n"
   ]
  },
  {
   "cell_type": "code",
   "execution_count": null,
   "metadata": {},
   "outputs": [],
   "source": [
    "# Using Matplotlib, generate a box and whisker plot of the final tumor volume for all four treatment \n",
    "# regimens and highlight any potential outliers in the plot by changing their color and style.\n",
    "# Hint**: All four box plots should be within the same figure. \n",
    "# Use this [Matplotlib documentation page](https://matplotlib.org/gallery/pyplots/\n",
    "# boxplot_demo_pyplot.html#sphx-glr-gallery-pyplots-boxplot-demo-pyplot-py) \n",
    "# for help with changing the style of the outliers.\n"
   ]
  },
  {
   "cell_type": "code",
   "execution_count": null,
   "metadata": {},
   "outputs": [],
   "source": [
    "# Generate a line plot of time point versus tumor volume for a single mouse treated with Capomulin."
   ]
  },
  {
   "cell_type": "code",
   "execution_count": null,
   "metadata": {},
   "outputs": [],
   "source": [
    "# Generate a scatter plot of mouse weight versus average tumor volume for the Capomulin treatment regimen."
   ]
  },
  {
   "cell_type": "code",
   "execution_count": null,
   "metadata": {},
   "outputs": [],
   "source": [
    "# Calculate the correlation coefficient and linear regression model between mouse weight and average tumor \n",
    "# volume for the Capomulin treatment. Plot the linear regression model on top of the previous scatter plot.\n"
   ]
  },
  {
   "cell_type": "code",
   "execution_count": null,
   "metadata": {},
   "outputs": [],
   "source": [
    "# Look across all previously generated figures and tables and write at least three observations or inferences \n",
    "# that can be made from the data. Include these observations at the top of notebook.\n"
   ]
  },
  {
   "cell_type": "code",
   "execution_count": null,
   "metadata": {},
   "outputs": [],
   "source": [
    "# Here are some final considerations:\n",
    "# You must use proper labeling of your plots, to include properties such as: plot titles, axis labels, \n",
    "# legend labels, _x_-axis and _y_-axis limits, etc.\n",
    "# See the [starter workbook](Pymaceuticals/pymaceuticals_starter.ipynb) for help on what modules to \n",
    "# import and expected format of the notebook.\n",
    "\n"
   ]
  }
 ],
 "metadata": {
  "kernelspec": {
   "display_name": "Python 3",
   "language": "python",
   "name": "python3"
  },
  "language_info": {
   "codemirror_mode": {
    "name": "ipython",
    "version": 3
   },
   "file_extension": ".py",
   "mimetype": "text/x-python",
   "name": "python",
   "nbconvert_exporter": "python",
   "pygments_lexer": "ipython3",
   "version": "3.7.4"
  }
 },
 "nbformat": 4,
 "nbformat_minor": 2
}
