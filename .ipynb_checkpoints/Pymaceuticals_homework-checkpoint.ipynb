{
 "cells": [
  {
   "cell_type": "raw",
   "metadata": {},
   "source": [
    "As the purpose of this study was to compare drug treatments against Capomulin, I can conclude the following with the data provided below:\n",
    "\n",
    "    1. The most comparable drug to Capomulin is Ramicane, as they were tested on nearly the same amount of mice and recorded similar tumor volumes by the end of the study.\n",
    "    \n",
    "    2. Given the IQRs calculated and plotted along with the correlation value of 0.96, I would argue that Capomulin recorded the most consistent final tumor volume results in the mice vs any other drug, pointing out the drugs effectiveness on its subjects.\n",
    "    \n",
    "    3. The study should be extended to past 45 days. On average, we saw an increase in tumor volume for mice on Capomulin in the last 10 days of the study, suggesting the effects may start to wear off or the tumor is adapting against the treatment. "
   ]
  },
  {
   "cell_type": "code",
   "execution_count": 244,
   "metadata": {},
   "outputs": [
    {
     "data": {
      "text/html": [
       "<div>\n",
       "<style scoped>\n",
       "    .dataframe tbody tr th:only-of-type {\n",
       "        vertical-align: middle;\n",
       "    }\n",
       "\n",
       "    .dataframe tbody tr th {\n",
       "        vertical-align: top;\n",
       "    }\n",
       "\n",
       "    .dataframe thead th {\n",
       "        text-align: right;\n",
       "    }\n",
       "</style>\n",
       "<table border=\"1\" class=\"dataframe\">\n",
       "  <thead>\n",
       "    <tr style=\"text-align: right;\">\n",
       "      <th></th>\n",
       "      <th>Mouse ID</th>\n",
       "      <th>Drug Regimen</th>\n",
       "      <th>Sex</th>\n",
       "      <th>Age_months</th>\n",
       "      <th>Weight (g)</th>\n",
       "    </tr>\n",
       "  </thead>\n",
       "  <tbody>\n",
       "    <tr>\n",
       "      <td>0</td>\n",
       "      <td>k403</td>\n",
       "      <td>Ramicane</td>\n",
       "      <td>Male</td>\n",
       "      <td>21</td>\n",
       "      <td>16</td>\n",
       "    </tr>\n",
       "    <tr>\n",
       "      <td>1</td>\n",
       "      <td>s185</td>\n",
       "      <td>Capomulin</td>\n",
       "      <td>Female</td>\n",
       "      <td>3</td>\n",
       "      <td>17</td>\n",
       "    </tr>\n",
       "    <tr>\n",
       "      <td>2</td>\n",
       "      <td>x401</td>\n",
       "      <td>Capomulin</td>\n",
       "      <td>Female</td>\n",
       "      <td>16</td>\n",
       "      <td>15</td>\n",
       "    </tr>\n",
       "    <tr>\n",
       "      <td>3</td>\n",
       "      <td>m601</td>\n",
       "      <td>Capomulin</td>\n",
       "      <td>Male</td>\n",
       "      <td>22</td>\n",
       "      <td>17</td>\n",
       "    </tr>\n",
       "    <tr>\n",
       "      <td>4</td>\n",
       "      <td>g791</td>\n",
       "      <td>Ramicane</td>\n",
       "      <td>Male</td>\n",
       "      <td>11</td>\n",
       "      <td>16</td>\n",
       "    </tr>\n",
       "  </tbody>\n",
       "</table>\n",
       "</div>"
      ],
      "text/plain": [
       "  Mouse ID Drug Regimen     Sex  Age_months  Weight (g)\n",
       "0     k403     Ramicane    Male          21          16\n",
       "1     s185    Capomulin  Female           3          17\n",
       "2     x401    Capomulin  Female          16          15\n",
       "3     m601    Capomulin    Male          22          17\n",
       "4     g791     Ramicane    Male          11          16"
      ]
     },
     "execution_count": 244,
     "metadata": {},
     "output_type": "execute_result"
    }
   ],
   "source": [
    "import matplotlib.pyplot as plt\n",
    "import pandas as pd\n",
    "import numpy as np\n",
    "\n",
    "mouse_df = pd.read_csv(\"data/Mouse_metadata.csv\")\n",
    "results_df = pd.read_csv(\"data/Study_results.csv\")\n",
    "mouse_df.head()"
   ]
  },
  {
   "cell_type": "code",
   "execution_count": 245,
   "metadata": {},
   "outputs": [
    {
     "data": {
      "text/html": [
       "<div>\n",
       "<style scoped>\n",
       "    .dataframe tbody tr th:only-of-type {\n",
       "        vertical-align: middle;\n",
       "    }\n",
       "\n",
       "    .dataframe tbody tr th {\n",
       "        vertical-align: top;\n",
       "    }\n",
       "\n",
       "    .dataframe thead th {\n",
       "        text-align: right;\n",
       "    }\n",
       "</style>\n",
       "<table border=\"1\" class=\"dataframe\">\n",
       "  <thead>\n",
       "    <tr style=\"text-align: right;\">\n",
       "      <th></th>\n",
       "      <th>Mouse ID</th>\n",
       "      <th>Timepoint</th>\n",
       "      <th>Tumor Volume (mm3)</th>\n",
       "      <th>Metastatic Sites</th>\n",
       "    </tr>\n",
       "  </thead>\n",
       "  <tbody>\n",
       "    <tr>\n",
       "      <td>0</td>\n",
       "      <td>b128</td>\n",
       "      <td>0</td>\n",
       "      <td>45.0</td>\n",
       "      <td>0</td>\n",
       "    </tr>\n",
       "    <tr>\n",
       "      <td>1</td>\n",
       "      <td>f932</td>\n",
       "      <td>0</td>\n",
       "      <td>45.0</td>\n",
       "      <td>0</td>\n",
       "    </tr>\n",
       "    <tr>\n",
       "      <td>2</td>\n",
       "      <td>g107</td>\n",
       "      <td>0</td>\n",
       "      <td>45.0</td>\n",
       "      <td>0</td>\n",
       "    </tr>\n",
       "    <tr>\n",
       "      <td>3</td>\n",
       "      <td>a457</td>\n",
       "      <td>0</td>\n",
       "      <td>45.0</td>\n",
       "      <td>0</td>\n",
       "    </tr>\n",
       "    <tr>\n",
       "      <td>4</td>\n",
       "      <td>c819</td>\n",
       "      <td>0</td>\n",
       "      <td>45.0</td>\n",
       "      <td>0</td>\n",
       "    </tr>\n",
       "  </tbody>\n",
       "</table>\n",
       "</div>"
      ],
      "text/plain": [
       "  Mouse ID  Timepoint  Tumor Volume (mm3)  Metastatic Sites\n",
       "0     b128          0                45.0                 0\n",
       "1     f932          0                45.0                 0\n",
       "2     g107          0                45.0                 0\n",
       "3     a457          0                45.0                 0\n",
       "4     c819          0                45.0                 0"
      ]
     },
     "execution_count": 245,
     "metadata": {},
     "output_type": "execute_result"
    }
   ],
   "source": [
    "results_df.head()"
   ]
  },
  {
   "cell_type": "code",
   "execution_count": 246,
   "metadata": {},
   "outputs": [
    {
     "data": {
      "text/html": [
       "<div>\n",
       "<style scoped>\n",
       "    .dataframe tbody tr th:only-of-type {\n",
       "        vertical-align: middle;\n",
       "    }\n",
       "\n",
       "    .dataframe tbody tr th {\n",
       "        vertical-align: top;\n",
       "    }\n",
       "\n",
       "    .dataframe thead th {\n",
       "        text-align: right;\n",
       "    }\n",
       "</style>\n",
       "<table border=\"1\" class=\"dataframe\">\n",
       "  <thead>\n",
       "    <tr style=\"text-align: right;\">\n",
       "      <th></th>\n",
       "      <th>Mouse ID</th>\n",
       "      <th>Drug Regimen</th>\n",
       "      <th>Sex</th>\n",
       "      <th>Age_months</th>\n",
       "      <th>Weight (g)</th>\n",
       "      <th>Timepoint</th>\n",
       "      <th>Tumor Volume (mm3)</th>\n",
       "      <th>Metastatic Sites</th>\n",
       "    </tr>\n",
       "  </thead>\n",
       "  <tbody>\n",
       "    <tr>\n",
       "      <td>0</td>\n",
       "      <td>k403</td>\n",
       "      <td>Ramicane</td>\n",
       "      <td>Male</td>\n",
       "      <td>21</td>\n",
       "      <td>16</td>\n",
       "      <td>0</td>\n",
       "      <td>45.000000</td>\n",
       "      <td>0</td>\n",
       "    </tr>\n",
       "    <tr>\n",
       "      <td>1</td>\n",
       "      <td>k403</td>\n",
       "      <td>Ramicane</td>\n",
       "      <td>Male</td>\n",
       "      <td>21</td>\n",
       "      <td>16</td>\n",
       "      <td>5</td>\n",
       "      <td>38.825898</td>\n",
       "      <td>0</td>\n",
       "    </tr>\n",
       "    <tr>\n",
       "      <td>2</td>\n",
       "      <td>k403</td>\n",
       "      <td>Ramicane</td>\n",
       "      <td>Male</td>\n",
       "      <td>21</td>\n",
       "      <td>16</td>\n",
       "      <td>10</td>\n",
       "      <td>35.014271</td>\n",
       "      <td>1</td>\n",
       "    </tr>\n",
       "    <tr>\n",
       "      <td>3</td>\n",
       "      <td>k403</td>\n",
       "      <td>Ramicane</td>\n",
       "      <td>Male</td>\n",
       "      <td>21</td>\n",
       "      <td>16</td>\n",
       "      <td>15</td>\n",
       "      <td>34.223992</td>\n",
       "      <td>1</td>\n",
       "    </tr>\n",
       "    <tr>\n",
       "      <td>4</td>\n",
       "      <td>k403</td>\n",
       "      <td>Ramicane</td>\n",
       "      <td>Male</td>\n",
       "      <td>21</td>\n",
       "      <td>16</td>\n",
       "      <td>20</td>\n",
       "      <td>32.997729</td>\n",
       "      <td>1</td>\n",
       "    </tr>\n",
       "    <tr>\n",
       "      <td>...</td>\n",
       "      <td>...</td>\n",
       "      <td>...</td>\n",
       "      <td>...</td>\n",
       "      <td>...</td>\n",
       "      <td>...</td>\n",
       "      <td>...</td>\n",
       "      <td>...</td>\n",
       "      <td>...</td>\n",
       "    </tr>\n",
       "    <tr>\n",
       "      <td>1888</td>\n",
       "      <td>z969</td>\n",
       "      <td>Naftisol</td>\n",
       "      <td>Male</td>\n",
       "      <td>9</td>\n",
       "      <td>30</td>\n",
       "      <td>25</td>\n",
       "      <td>63.145652</td>\n",
       "      <td>2</td>\n",
       "    </tr>\n",
       "    <tr>\n",
       "      <td>1889</td>\n",
       "      <td>z969</td>\n",
       "      <td>Naftisol</td>\n",
       "      <td>Male</td>\n",
       "      <td>9</td>\n",
       "      <td>30</td>\n",
       "      <td>30</td>\n",
       "      <td>65.841013</td>\n",
       "      <td>3</td>\n",
       "    </tr>\n",
       "    <tr>\n",
       "      <td>1890</td>\n",
       "      <td>z969</td>\n",
       "      <td>Naftisol</td>\n",
       "      <td>Male</td>\n",
       "      <td>9</td>\n",
       "      <td>30</td>\n",
       "      <td>35</td>\n",
       "      <td>69.176246</td>\n",
       "      <td>4</td>\n",
       "    </tr>\n",
       "    <tr>\n",
       "      <td>1891</td>\n",
       "      <td>z969</td>\n",
       "      <td>Naftisol</td>\n",
       "      <td>Male</td>\n",
       "      <td>9</td>\n",
       "      <td>30</td>\n",
       "      <td>40</td>\n",
       "      <td>70.314904</td>\n",
       "      <td>4</td>\n",
       "    </tr>\n",
       "    <tr>\n",
       "      <td>1892</td>\n",
       "      <td>z969</td>\n",
       "      <td>Naftisol</td>\n",
       "      <td>Male</td>\n",
       "      <td>9</td>\n",
       "      <td>30</td>\n",
       "      <td>45</td>\n",
       "      <td>73.867845</td>\n",
       "      <td>4</td>\n",
       "    </tr>\n",
       "  </tbody>\n",
       "</table>\n",
       "<p>1893 rows × 8 columns</p>\n",
       "</div>"
      ],
      "text/plain": [
       "     Mouse ID Drug Regimen   Sex  Age_months  Weight (g)  Timepoint  \\\n",
       "0        k403     Ramicane  Male          21          16          0   \n",
       "1        k403     Ramicane  Male          21          16          5   \n",
       "2        k403     Ramicane  Male          21          16         10   \n",
       "3        k403     Ramicane  Male          21          16         15   \n",
       "4        k403     Ramicane  Male          21          16         20   \n",
       "...       ...          ...   ...         ...         ...        ...   \n",
       "1888     z969     Naftisol  Male           9          30         25   \n",
       "1889     z969     Naftisol  Male           9          30         30   \n",
       "1890     z969     Naftisol  Male           9          30         35   \n",
       "1891     z969     Naftisol  Male           9          30         40   \n",
       "1892     z969     Naftisol  Male           9          30         45   \n",
       "\n",
       "      Tumor Volume (mm3)  Metastatic Sites  \n",
       "0              45.000000                 0  \n",
       "1              38.825898                 0  \n",
       "2              35.014271                 1  \n",
       "3              34.223992                 1  \n",
       "4              32.997729                 1  \n",
       "...                  ...               ...  \n",
       "1888           63.145652                 2  \n",
       "1889           65.841013                 3  \n",
       "1890           69.176246                 4  \n",
       "1891           70.314904                 4  \n",
       "1892           73.867845                 4  \n",
       "\n",
       "[1893 rows x 8 columns]"
      ]
     },
     "execution_count": 246,
     "metadata": {},
     "output_type": "execute_result"
    }
   ],
   "source": [
    "merge_df = pd.merge(mouse_df,results_df,on=\"Mouse ID\",how=\"left\") #merge tables\n",
    "merge_df"
   ]
  },
  {
   "cell_type": "code",
   "execution_count": 270,
   "metadata": {},
   "outputs": [
    {
     "data": {
      "text/html": [
       "<div>\n",
       "<style scoped>\n",
       "    .dataframe tbody tr th:only-of-type {\n",
       "        vertical-align: middle;\n",
       "    }\n",
       "\n",
       "    .dataframe tbody tr th {\n",
       "        vertical-align: top;\n",
       "    }\n",
       "\n",
       "    .dataframe thead th {\n",
       "        text-align: right;\n",
       "    }\n",
       "</style>\n",
       "<table border=\"1\" class=\"dataframe\">\n",
       "  <thead>\n",
       "    <tr style=\"text-align: right;\">\n",
       "      <th></th>\n",
       "      <th>Mean</th>\n",
       "      <th>Median</th>\n",
       "      <th>Variance</th>\n",
       "      <th>Std Dev</th>\n",
       "      <th>SEM</th>\n",
       "    </tr>\n",
       "    <tr>\n",
       "      <th>Drug Regimen</th>\n",
       "      <th></th>\n",
       "      <th></th>\n",
       "      <th></th>\n",
       "      <th></th>\n",
       "      <th></th>\n",
       "    </tr>\n",
       "  </thead>\n",
       "  <tbody>\n",
       "    <tr>\n",
       "      <td>Capomulin</td>\n",
       "      <td>40.675741</td>\n",
       "      <td>41.557809</td>\n",
       "      <td>24.947764</td>\n",
       "      <td>4.994774</td>\n",
       "      <td>0.329346</td>\n",
       "    </tr>\n",
       "    <tr>\n",
       "      <td>Ceftamin</td>\n",
       "      <td>52.591172</td>\n",
       "      <td>51.776157</td>\n",
       "      <td>39.290177</td>\n",
       "      <td>6.268188</td>\n",
       "      <td>0.469821</td>\n",
       "    </tr>\n",
       "    <tr>\n",
       "      <td>Infubinol</td>\n",
       "      <td>52.884795</td>\n",
       "      <td>51.820584</td>\n",
       "      <td>43.128684</td>\n",
       "      <td>6.567243</td>\n",
       "      <td>0.492236</td>\n",
       "    </tr>\n",
       "    <tr>\n",
       "      <td>Ketapril</td>\n",
       "      <td>55.235638</td>\n",
       "      <td>53.698743</td>\n",
       "      <td>68.553577</td>\n",
       "      <td>8.279709</td>\n",
       "      <td>0.603860</td>\n",
       "    </tr>\n",
       "    <tr>\n",
       "      <td>Naftisol</td>\n",
       "      <td>54.331565</td>\n",
       "      <td>52.509285</td>\n",
       "      <td>66.173479</td>\n",
       "      <td>8.134708</td>\n",
       "      <td>0.596466</td>\n",
       "    </tr>\n",
       "    <tr>\n",
       "      <td>Placebo</td>\n",
       "      <td>54.033581</td>\n",
       "      <td>52.288934</td>\n",
       "      <td>61.168083</td>\n",
       "      <td>7.821003</td>\n",
       "      <td>0.581331</td>\n",
       "    </tr>\n",
       "    <tr>\n",
       "      <td>Propriva</td>\n",
       "      <td>52.322552</td>\n",
       "      <td>50.854632</td>\n",
       "      <td>42.351070</td>\n",
       "      <td>6.507770</td>\n",
       "      <td>0.512884</td>\n",
       "    </tr>\n",
       "    <tr>\n",
       "      <td>Ramicane</td>\n",
       "      <td>40.216745</td>\n",
       "      <td>40.673236</td>\n",
       "      <td>23.486704</td>\n",
       "      <td>4.846308</td>\n",
       "      <td>0.320955</td>\n",
       "    </tr>\n",
       "    <tr>\n",
       "      <td>Stelasyn</td>\n",
       "      <td>54.233149</td>\n",
       "      <td>52.431737</td>\n",
       "      <td>59.450562</td>\n",
       "      <td>7.710419</td>\n",
       "      <td>0.573111</td>\n",
       "    </tr>\n",
       "    <tr>\n",
       "      <td>Zoniferol</td>\n",
       "      <td>53.236507</td>\n",
       "      <td>51.818479</td>\n",
       "      <td>48.533355</td>\n",
       "      <td>6.966589</td>\n",
       "      <td>0.516398</td>\n",
       "    </tr>\n",
       "  </tbody>\n",
       "</table>\n",
       "</div>"
      ],
      "text/plain": [
       "                   Mean     Median   Variance   Std Dev       SEM\n",
       "Drug Regimen                                                     \n",
       "Capomulin     40.675741  41.557809  24.947764  4.994774  0.329346\n",
       "Ceftamin      52.591172  51.776157  39.290177  6.268188  0.469821\n",
       "Infubinol     52.884795  51.820584  43.128684  6.567243  0.492236\n",
       "Ketapril      55.235638  53.698743  68.553577  8.279709  0.603860\n",
       "Naftisol      54.331565  52.509285  66.173479  8.134708  0.596466\n",
       "Placebo       54.033581  52.288934  61.168083  7.821003  0.581331\n",
       "Propriva      52.322552  50.854632  42.351070  6.507770  0.512884\n",
       "Ramicane      40.216745  40.673236  23.486704  4.846308  0.320955\n",
       "Stelasyn      54.233149  52.431737  59.450562  7.710419  0.573111\n",
       "Zoniferol     53.236507  51.818479  48.533355  6.966589  0.516398"
      ]
     },
     "execution_count": 270,
     "metadata": {},
     "output_type": "execute_result"
    }
   ],
   "source": [
    "# Generate a summary statistics table consisting of the mean, median, variance, standard deviation, \n",
    "# and SEM of the tumor volume for each drug regimen.\n",
    "\n",
    "#drug_stats = merge_df.groupby('Drug Regimen')[\"Tumor Volume (mm3)\"].describe()\n",
    "#drug_stats[\"SEM\"] = merge_df.groupby('Drug Regimen')[\"Tumor Volume (mm3)\"].sem()\n",
    "#drug_stats\n",
    "# 'Median','Variance','Std Dev','SEM'\n",
    "# \n",
    "drug_mean = merge_df.groupby('Drug Regimen')[\"Tumor Volume (mm3)\"].mean()\n",
    "drug_stats = pd.DataFrame({'Mean':drug_mean,\n",
    "                           'Median':merge_df.groupby('Drug Regimen')[\"Tumor Volume (mm3)\"].median(),\n",
    "                           'Variance':merge_df.groupby('Drug Regimen')[\"Tumor Volume (mm3)\"].var(),\n",
    "                           'Std Dev':merge_df.groupby('Drug Regimen')[\"Tumor Volume (mm3)\"].std(),\n",
    "                           'SEM':merge_df.groupby('Drug Regimen')[\"Tumor Volume (mm3)\"].sem()\n",
    "                          })\n",
    "\n",
    "drug_stats"
   ]
  },
  {
   "cell_type": "code",
   "execution_count": 447,
   "metadata": {},
   "outputs": [
    {
     "data": {
      "image/png": "[encoded data removed]",
      "text/plain": [
       "<Figure size 432x288 with 1 Axes>"
      ]
     },
     "metadata": {
      "needs_background": "light"
     },
     "output_type": "display_data"
    }
   ],
   "source": [
    "# Generate a bar plot using both Pandas's `DataFrame.plot()` and Matplotlib's `pyplot` that shows the \n",
    "# number of data points for each treatment regimen.\n",
    "# NOTE:** These plots should look identical.\n",
    "#from matplotlib import cm\n",
    "\n",
    "drug_count = merge_df.groupby('Drug Regimen')['Mouse ID'].count()\n",
    "\n",
    "# DataFrame Plot\n",
    "drug_ct_bar = drug_count.plot(kind='bar',colormap='Accent')\n",
    "drug_ct_bar.set_xlabel(\"Drug Regimen\")\n",
    "drug_ct_bar.set_ylabel(\"Data Point Count\")\n",
    "drug_ct_bar.set_title(\"Count of Data Points Per Drug Regimen\")\n",
    "plt.show()"
   ]
  },
  {
   "cell_type": "code",
   "execution_count": 448,
   "metadata": {},
   "outputs": [
    {
     "data": {
      "image/png": "[encoded data removed]",
      "text/plain": [
       "<Figure size 432x288 with 1 Axes>"
      ]
     },
     "metadata": {
      "needs_background": "light"
     },
     "output_type": "display_data"
    }
   ],
   "source": [
    "# Matplotlib's pyplot\n",
    "\n",
    "x_axis = np.arange(len(drug_count))\n",
    "pyplot_count = plt.bar(x_axis, drug_count, color='c', alpha=0.5, align=\"center\")\n",
    "tick_loc = [value for value in x_axis]\n",
    "plt.xticks(tick_loc, drug_count.index, rotation=90)\n",
    "plt.title(\"Count of Data Points Per Drug Regimen\")\n",
    "plt.xlabel(\"Drug Regimen\")\n",
    "plt.ylabel(\"Data Point Count\")\n",
    "plt.show()"
   ]
  },
  {
   "cell_type": "code",
   "execution_count": 449,
   "metadata": {},
   "outputs": [
    {
     "data": {
      "image/png": "[encoded data removed]",
      "text/plain": [
       "<Figure size 432x288 with 1 Axes>"
      ]
     },
     "metadata": {},
     "output_type": "display_data"
    }
   ],
   "source": [
    "# Generate a pie plot using both Pandas's `DataFrame.plot()` and Matplotlib's `pyplot` that shows \n",
    "# the distribution of female or male mice in the study.\n",
    "# NOTE:** These plots should look identical.\n",
    "\n",
    "gender_s = mouse_df.groupby('Sex')['Sex'].count()\n",
    "\n",
    "# DataFrame plot\n",
    "\n",
    "explode = (0.05,0)\n",
    "colors = [\"pink\",\"skyblue\"]\n",
    "genderdf_pie = gender_s.plot.pie(explode=explode, colors=colors, autopct=\"%1.1f%%\", shadow=True, startangle=140)\n",
    "genderdf_pie.set_title(\"Male vs Female Comparison\")\n",
    "plt.show()"
   ]
  },
  {
   "cell_type": "code",
   "execution_count": 450,
   "metadata": {},
   "outputs": [
    {
     "data": {
      "image/png": "[encoded data removed]",
      "text/plain": [
       "<Figure size 432x288 with 1 Axes>"
      ]
     },
     "metadata": {},
     "output_type": "display_data"
    }
   ],
   "source": [
    "# Matplotlib pyplot\n",
    "gender_s\n",
    "labels= ['Female','Male']\n",
    "genderplt_pie = plt.pie(gender_s, explode=explode, labels=labels, colors=colors, autopct=\"%1.1f%%\", shadow=True, startangle=140)\n",
    "plt.title(\"Male vs Female Comparison\")\n",
    "plt.ylabel(\"Sex\")\n",
    "plt.show()"
   ]
  },
  {
   "cell_type": "code",
   "execution_count": 385,
   "metadata": {},
   "outputs": [
    {
     "name": "stdout",
     "output_type": "stream",
     "text": [
      "         Drug Regimen  Timepoint  Tumor Volume (mm3)\n",
      "Mouse ID                                            \n",
      "a203        Infubinol         45           67.973419\n",
      "a251        Infubinol         45           65.525743\n",
      "a275         Ceftamin         45           62.999356\n",
      "a411         Ramicane         45           38.407618\n",
      "a444         Ramicane         45           43.047543\n",
      "...               ...        ...                 ...\n",
      "y769         Ceftamin         45           68.594745\n",
      "y793        Capomulin         45           31.896238\n",
      "y865         Ceftamin         45           64.729837\n",
      "z578         Ramicane         45           30.638696\n",
      "z581        Infubinol         45           62.754451\n",
      "\n",
      "[100 rows x 3 columns]\n"
     ]
    },
    {
     "data": {
      "text/plain": [
       "Index(['Drug Regimen', 'Timepoint', 'Tumor Volume (mm3)'], dtype='object')"
      ]
     },
     "execution_count": 385,
     "metadata": {},
     "output_type": "execute_result"
    }
   ],
   "source": [
    "# Calculate the final tumor volume of each mouse across four of the most promising treatment regimens: \n",
    "# Capomulin, Ramicane, Infubinol, and Ceftamin. Calculate the quartiles and IQR and \n",
    "# quantitatively determine if there are any potential outliers across all four treatment regimens.\n",
    "\n",
    "mouse_tumor = merge_df[['Drug Regimen','Mouse ID','Timepoint','Tumor Volume (mm3)',]]\n",
    "drug_top4 = mouse_tumor[(mouse_tumor['Drug Regimen']==\"Capomulin\")| \n",
    "                        (mouse_tumor['Drug Regimen']==\"Ramicane\")| \n",
    "                        (mouse_tumor['Drug Regimen']==\"Infubinol\")|\n",
    "                        (mouse_tumor['Drug Regimen']==\"Ceftamin\")]\n",
    "drug_top4.sort_values(['Mouse ID','Timepoint'],ascending=[False,False])\n",
    "mouse_group = drug_top4.groupby('Mouse ID')\n",
    "#for key,value in mouse_group:\n",
    " #   print('GroupName: ',key)\n",
    "  #  print(value)\n",
    "   # print('---------------------')\n",
    "final_tumor = mouse_group.last()\n",
    "print(final_tumor)\n"
   ]
  },
  {
   "cell_type": "code",
   "execution_count": 386,
   "metadata": {},
   "outputs": [
    {
     "name": "stdout",
     "output_type": "stream",
     "text": [
      "The lower quartile of Tumor Volume by drug is: \n",
      "Drug Regimen\n",
      "Capomulin    32.38\n",
      "Ceftamin     48.72\n",
      "Infubinol    54.05\n",
      "Ramicane     31.56\n",
      "Name: Tumor Volume (mm3), dtype: float64\n",
      "The upper quartile of Tumor Volume by drug is: \n",
      "Drug Regimen\n",
      "Capomulin    40.16\n",
      "Ceftamin     64.30\n",
      "Infubinol    65.53\n",
      "Ramicane     40.66\n",
      "Name: Tumor Volume (mm3), dtype: float64\n",
      "The interquartile range of Tumor Volume by drug is: \n",
      "Drug Regimen\n",
      "Capomulin     7.78\n",
      "Ceftamin     15.58\n",
      "Infubinol    11.48\n",
      "Ramicane      9.10\n",
      "Name: Tumor Volume (mm3), dtype: float64\n",
      "The the median of Tumor Volume by drug is: \n",
      "Drug Regimen\n",
      "Capomulin    38.13\n",
      "Ceftamin     59.85\n",
      "Infubinol    60.17\n",
      "Ramicane     36.56\n",
      "Name: Tumor Volume (mm3), dtype: float64 \n",
      "Values below these could be outliers. \n",
      "Drug Regimen\n",
      "Capomulin    20.70\n",
      "Ceftamin     25.36\n",
      "Infubinol    36.83\n",
      "Ramicane     17.91\n",
      "Name: Tumor Volume (mm3), dtype: float64\n",
      "Values above these could be outliers. \n",
      "Drug Regimen\n",
      "Capomulin    51.83\n",
      "Ceftamin     87.67\n",
      "Infubinol    82.74\n",
      "Ramicane     54.31\n",
      "Name: Tumor Volume (mm3), dtype: float64\n"
     ]
    }
   ],
   "source": [
    "Q1 = final_tumor.groupby('Drug Regimen')['Tumor Volume (mm3)'].quantile(0.25)\n",
    "Q2 = final_tumor.groupby('Drug Regimen')['Tumor Volume (mm3)'].quantile(0.5)\n",
    "Q3 = final_tumor.groupby('Drug Regimen')['Tumor Volume (mm3)'].quantile(0.75)\n",
    "IQR = Q3 - Q1\n",
    "\n",
    "print(f\"The lower quartile of Tumor Volume by drug is: \\n{round(Q1,2)}\")\n",
    "print(f\"The upper quartile of Tumor Volume by drug is: \\n{round(Q3,2)}\")\n",
    "print(f\"The interquartile range of Tumor Volume by drug is: \\n{round(IQR,2)}\")\n",
    "print(f\"The the median of Tumor Volume by drug is: \\n{round(Q2,2)} \")\n",
    "\n",
    "lower_bound = Q1 - (1.5*IQR)\n",
    "upper_bound = Q3 + (1.5*IQR)\n",
    "print(f\"Values below these could be outliers. \\n{round(lower_bound,2)}\")\n",
    "print(f\"Values above these could be outliers. \\n{round(upper_bound,2)}\")"
   ]
  },
  {
   "cell_type": "code",
   "execution_count": 442,
   "metadata": {},
   "outputs": [
    {
     "data": {
      "image/png": "[encoded data removed]",
      "text/plain": [
       "<Figure size 432x288 with 1 Axes>"
      ]
     },
     "metadata": {
      "needs_background": "light"
     },
     "output_type": "display_data"
    }
   ],
   "source": [
    "# Using Matplotlib, generate a box and whisker plot of the final tumor volume for all four treatment regimens \n",
    "# and highlight any potential outliers in the plot by changing their color and style.\n",
    "\n",
    "Capomulin = final_tumor[final_tumor['Drug Regimen']=='Capomulin']['Tumor Volume (mm3)']\n",
    "Ceftamin = final_tumor[final_tumor['Drug Regimen']=='Ceftamin']['Tumor Volume (mm3)']\n",
    "Infubinol = final_tumor[final_tumor['Drug Regimen']=='Infubinol']['Tumor Volume (mm3)']\n",
    "Ramicane = final_tumor[final_tumor['Drug Regimen']=='Ramicane']['Tumor Volume (mm3)']\n",
    "\n",
    "red_x = dict(markerfacecolor='r', marker='D')\n",
    "fig = plt.figure()\n",
    "ax = fig.add_subplot(111)\n",
    "ax.set_title('Final Tumor Volumes by Drug Regimen')\n",
    "ax.set_xlabel('Drug Regimen')\n",
    "ax.set_ylabel('Tumor Volume (mm3)')\n",
    "ax.boxplot([Capomulin, Ceftamin, Infubinol, Ramicane], labels=['Capomulin', 'Ceftamin', 'Infubinol','Ramicane'], \n",
    "           flierprops=red_x)\n",
    "plt.show()"
   ]
  },
  {
   "cell_type": "code",
   "execution_count": 453,
   "metadata": {},
   "outputs": [
    {
     "data": {
      "image/png": "[encoded data removed]",
      "text/plain": [
       "<Figure size 432x288 with 1 Axes>"
      ]
     },
     "metadata": {
      "needs_background": "light"
     },
     "output_type": "display_data"
    }
   ],
   "source": [
    "# Generate a line plot of time point versus tumor volume for a single mouse treated with Capomulin.\n",
    "cap_mouse = mouse_tumor[(mouse_tumor['Drug Regimen']==\"Capomulin\")]\n",
    "cap_mouse.iloc[137] # find a mouse\n",
    "mouse_b128 = cap_mouse[(cap_mouse['Mouse ID']=='b128')]\n",
    "b128_chart = mouse_b128.plot.line(x='Timepoint',y='Tumor Volume (mm3)')\n",
    "b128_chart.set_title(\"Mouse b128: Tumor Volume over Time with Capomulin\")\n",
    "plt.show()"
   ]
  },
  {
   "cell_type": "code",
   "execution_count": 451,
   "metadata": {},
   "outputs": [
    {
     "data": {
      "image/png": "[encoded data removed]",
      "text/plain": [
       "<Figure size 432x288 with 1 Axes>"
      ]
     },
     "metadata": {
      "needs_background": "light"
     },
     "output_type": "display_data"
    }
   ],
   "source": [
    "# Generate a scatter plot of mouse weight versus average tumor volume for the Capomulin treatment regimen.\n",
    "mouse_g_mm = merge_df[['Mouse ID','Drug Regimen','Weight (g)','Tumor Volume (mm3)']]\n",
    "cap_g_mm = mouse_g_mm[(mouse_g_mm['Drug Regimen']==\"Capomulin\")]\n",
    "g_mm = merge_df.groupby('Weight (g)')['Tumor Volume (mm3)'].mean()\n",
    "g_mm\n",
    "\n",
    "plt.scatter(g_mm.index,g_mm)\n",
    "plt.xlabel(\"Weight (g)\")\n",
    "plt.ylabel(\"Average Tumor Volume (mm3)\")\n",
    "plt.title(\"Average Tumor Volume by Weight on Capomulin Regimen\")\n",
    "plt.show()"
   ]
  },
  {
   "cell_type": "code",
   "execution_count": 455,
   "metadata": {},
   "outputs": [
    {
     "name": "stdout",
     "output_type": "stream",
     "text": [
      "The correlation between weight and volume for Capomulin treatment is: 0.96\n",
      "y =1.41x + 13.61\n"
     ]
    },
    {
     "data": {
      "image/png": "[encoded data removed]",
      "text/plain": [
       "<Figure size 432x288 with 1 Axes>"
      ]
     },
     "metadata": {
      "needs_background": "light"
     },
     "output_type": "display_data"
    }
   ],
   "source": [
    "# Calculate the correlation coefficient and linear regression model between mouse weight and average tumor \n",
    "# volume for the Capomulin treatment. Plot the linear regression model on top of the previous scatter plot.\n",
    "import scipy.stats as st\n",
    "from scipy.stats import linregress\n",
    "\n",
    "g_mm \n",
    "weight = g_mm.index\n",
    "volume = g_mm\n",
    "correlation = st.pearsonr(weight,volume)\n",
    "print(f\"The correlation between weight and volume for Capomulin treatment is: {round(correlation[0],2)}\")\n",
    "\n",
    "x_value = g_mm.index\n",
    "y_value = g_mm\n",
    "(slope, intercept, rvalue, pvalue, stderr) = linregress(x_value,y_value)\n",
    "regress_eq = x_value*slope + intercept\n",
    "line_eq = print(\"y =\" + str(round(slope,2)) + \"x + \" + str(round(intercept,2)))\n",
    "\n",
    "plt.scatter(x_value,y_value)\n",
    "plt.plot(x_value,regress_eq,\"r-\")\n",
    "plt.annotate(line_eq,(24,30),fontsize=10,color=\"red\")\n",
    "plt.xlabel('Mouse Weight (g)')\n",
    "plt.ylabel('Tumor Volume (mm3)')\n",
    "plt.title('Tumor Volume by Weight for Mice on Capomulin Treatment')\n",
    "plt.show()"
   ]
  }
 ],
 "metadata": {
  "kernelspec": {
   "display_name": "Python 3",
   "language": "python",
   "name": "python3"
  },
  "language_info": {
   "codemirror_mode": {
    "name": "ipython",
    "version": 3
   },
   "file_extension": ".py",
   "mimetype": "text/x-python",
   "name": "python",
   "nbconvert_exporter": "python",
   "pygments_lexer": "ipython3",
   "version": "3.7.4"
  }
 },
 "nbformat": 4,
 "nbformat_minor": 2
}
